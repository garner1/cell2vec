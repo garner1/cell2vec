{
 "cells": [
  {
   "cell_type": "code",
   "execution_count": null,
   "metadata": {},
   "outputs": [],
   "source": [
    "#!/usr/bin/python\n",
    "\n",
    "# Standard imports\n",
    "import cv2\n",
    "import numpy as np;\n",
    "\n",
    "# Read image\n",
    "img = cv2.imread('/home/garner1/Work/dataset/cellImages/image52/equalised_iMS266_20190426_001.sub52.tif', cv2.IMREAD_GRAYSCALE)\n",
    "# img = cv2.imread('/home/garner1/Work/dataset/cellImages/image52/Images_Patient_52/equalised/equalised_iMS266_20190426_001.sub112.tif', cv2.IMREAD_GRAYSCALE)\n",
    "# img = cv2.imread('/home/garner1/Work/dataset/cellImages/image52/iMS266_20190426_001.sub52.jpg', cv2.IMREAD_GRAYSCALE)\n",
    "\n",
    "# Setup SimpleBlobDetector parameters.\n",
    "params = cv2.SimpleBlobDetector_Params()\n",
    "\n",
    "# Change thresholds\n",
    "params.minThreshold = 32\n",
    "params.maxThreshold = 256\n",
    "params.thresholdStep = 1\n",
    "params.minDistBetweenBlobs = 0\n",
    "# Filter by color.\n",
    "params.filterByColor = True\n",
    "params.blobColor = 255\n",
    "# Filter by Area.\n",
    "params.filterByArea = True\n",
    "params.minArea = 16\n",
    "params.maxArea = 100*params.minArea\n",
    "\n",
    "# Filter by Circularity\n",
    "params.filterByCircularity = False\n",
    "params.minCircularity = 0.0\n",
    "# Filter by Convexity\n",
    "params.filterByConvexity = False\n",
    "params.minConvexity = 0.0\n",
    "params.maxConvexity = 1.0\n",
    "# Filter by Inertia\n",
    "params.filterByInertia = False\n",
    "params.minInertiaRatio = 0.0\n",
    "\n",
    "# Create a detector with the parameters\n",
    "ver = (cv2.__version__).split('.')\n",
    "if int(ver[0]) < 3 :\n",
    "    detector = cv2.SimpleBlobDetector(params)\n",
    "else : \n",
    "    detector = cv2.SimpleBlobDetector_create(params)"
   ]
  },
  {
   "cell_type": "code",
   "execution_count": null,
   "metadata": {},
   "outputs": [],
   "source": [
    "# Detect blobs.\n",
    "im = img[:,:]\n",
    "keypoints = detector.detect(im)"
   ]
  },
  {
   "cell_type": "code",
   "execution_count": null,
   "metadata": {},
   "outputs": [],
   "source": [
    "# import seaborn as sns; sns.set()\n",
    "# from matplotlib import pyplot as plt\n",
    "# # Draw detected blobs as red circles.\n",
    "# # cv2.DRAW_MATCHES_FLAGS_DRAW_RICH_KEYPOINTS ensures\n",
    "# # the size of the circle corresponds to the size of blob\n",
    "\n",
    "# im_with_keypoints = cv2.drawKeypoints(im, keypoints, np.array([]), (0,0,255), cv2.DRAW_MATCHES_FLAGS_DRAW_RICH_KEYPOINTS)\n",
    "\n",
    "# cv2.imshow(\"Keypoints\", im_with_keypoints)\n",
    "# cv2.waitKey(0)\n",
    "# cv2.destroyAllWindows()"
   ]
  },
  {
   "cell_type": "code",
   "execution_count": null,
   "metadata": {},
   "outputs": [],
   "source": [
    "import umap\n",
    "\n",
    "X = np.asarray([keypoints[idx].pt for idx in range(len(keypoints))])\n",
    "node_size = np.asarray([keypoints[idx].size for idx in range(len(keypoints))])\n",
    "\n",
    "'''2D embedding'''\n",
    "n_neighbors = 10\n",
    "\n",
    "'''\n",
    "Returns\n",
    "-------\n",
    "fuzzy_simplicial_set: coo_matrix\n",
    "A fuzzy simplicial set represented as a sparse matrix. The (i,\n",
    "j) entry of the matrix represents the membership strength of the\n",
    "1-simplex between the ith and jth sample points.\n",
    "'''\n",
    "mat = umap.umap_.fuzzy_simplicial_set(\n",
    "    X,\n",
    "    n_neighbors,\n",
    "    random_state=np.random.RandomState(seed=42),\n",
    "    metric='euclidean',\n",
    "    metric_kwds={},\n",
    "    knn_indices=None,\n",
    "    knn_dists=None,\n",
    "    angular=False,\n",
    "    set_op_mix_ratio=1.0,\n",
    "    local_connectivity=1.0,\n",
    "    verbose=False\n",
    ")"
   ]
  },
  {
   "cell_type": "code",
   "execution_count": null,
   "metadata": {},
   "outputs": [],
   "source": [
    "import matplotlib.pyplot as plt\n",
    "import seaborn as sns; sns.set()\n",
    "\n",
    "import networkx as nx\n",
    "sns.set(style='white', rc={'figure.figsize':(50,50)})\n",
    "G = nx.from_scipy_sparse_matrix(mat)\n",
    "eset = [(u, v) for (u, v, d) in G.edges(data=True) if d['weight'] > 0.0]\n",
    "weights = [d['weight'] for (u, v, d) in G.edges(data=True)]\n",
    "# pos = nx.spring_layout(G)  # positions for all nodes\n",
    "pos = X\n",
    "# nodes\n",
    "nx.draw_networkx_nodes(G, pos, node_size=node_size,alpha=1.0)\n",
    "# edges\n",
    "# nx.draw_networkx_edges(G, pos, edgelist=eset,alpha=1.0, edge_color='r')\n",
    "nx.draw_networkx_edges(G, pos, edgelist=eset,alpha=1.0, width=weights, edge_color='r')\n",
    "# nx.draw_networkx_edges(G, pos, edgelist=esmall,\n",
    "#                        width=6, alpha=0.5, edge_color='b', style='dashed')\n",
    "# labels\n",
    "# nx.draw_networkx_labels(G, pos, font_size=20, font_family='sans-serif')\n",
    "plt.axis('off')\n",
    "plt.imshow(img,cmap='gray')\n",
    "plt.show()\n"
   ]
  },
  {
   "cell_type": "code",
   "execution_count": null,
   "metadata": {},
   "outputs": [],
   "source": [
    "from node2vec import Node2Vec\n",
    "\n",
    "# Precompute probabilities and generate walks - **ON WINDOWS ONLY WORKS WITH workers=1**\n",
    "node2vec = Node2Vec(G, dimensions=10, walk_length=20, num_walks=200, workers=24)  # Use temp_folder for big graphs"
   ]
  },
  {
   "cell_type": "code",
   "execution_count": null,
   "metadata": {},
   "outputs": [],
   "source": [
    "# Embed nodes\n",
    "model = node2vec.fit(window=10, min_count=1, batch_words=4)  # Any keywords acceptable by gensim.Word2Vec can be passed, `diemnsions` and `workers` are automatically passed (from the Node2Vec constructor)"
   ]
  },
  {
   "cell_type": "code",
   "execution_count": null,
   "metadata": {},
   "outputs": [],
   "source": [
    "embedding = np.asarray([model.wv[key] for idx, key in enumerate(model.wv.vocab)])"
   ]
  },
  {
   "cell_type": "code",
   "execution_count": null,
   "metadata": {},
   "outputs": [],
   "source": [
    "# '''2D Visualization'''\n",
    "# fig, ax = plt.subplots()\n",
    "\n",
    "# ax.scatter(embedding[:, 0], embedding[:, 1], s=10)\n",
    "\n",
    "# plt.show()"
   ]
  },
  {
   "cell_type": "code",
   "execution_count": null,
   "metadata": {},
   "outputs": [],
   "source": [
    "import hdbscan\n",
    "clusterer = hdbscan.HDBSCAN(min_samples=None,min_cluster_size=50)\n",
    "clusterer.fit(embedding)\n",
    "\n",
    "# sns.set(style='white', rc={'figure.figsize':(10,8)})\n",
    "# clustered = (clusterer.labels_ >= 0)\n",
    "# plt.scatter(embedding[~clustered, 0],\n",
    "#             embedding[~clustered, 1],\n",
    "#             c=(0.5, 0.5, 0.5),\n",
    "#             s=2,\n",
    "#             alpha=0.5)\n",
    "# plt.scatter(embedding[clustered, 0],\n",
    "#             embedding[clustered, 1],\n",
    "#             c=clusterer.labels_[clustered],\n",
    "#             s=2,\n",
    "#             cmap='Spectral');\n"
   ]
  },
  {
   "cell_type": "code",
   "execution_count": null,
   "metadata": {},
   "outputs": [],
   "source": [
    "set(clusterer.labels_)"
   ]
  },
  {
   "cell_type": "code",
   "execution_count": null,
   "metadata": {},
   "outputs": [],
   "source": [
    "import matplotlib.pyplot as plt\n",
    "import seaborn as sns; sns.set()\n",
    "import networkx as nx\n",
    "\n",
    "sns.set(style='white', rc={'figure.figsize':(50,50)})\n",
    "\n",
    "G = nx.from_scipy_sparse_matrix(mat)\n",
    "eset = [(u, v) for (u, v, d) in G.edges(data=True) if d['weight'] > 0.0]\n",
    "weights = [d['weight'] for (u, v, d) in G.edges(data=True) if d['weight'] > 0.0]\n",
    "pos = X\n",
    "\n",
    "# nodes\n",
    "colors = []\n",
    "for idx in range(len(clusterer.labels_)):\n",
    "    if clusterer.labels_[idx] == -1:\n",
    "        colors.append('r')\n",
    "    else:\n",
    "        colors.append('w')\n",
    "# nx.draw_networkx_nodes(G, pos, node_size=500, node_color=colors ,alpha=1.0)\n",
    "\n",
    "nx.draw_networkx_nodes(G, pos, node_size=500, node_color=clusterer.labels_ ,alpha=1.0)\n",
    "\n",
    "# edges\n",
    "nx.draw_networkx_edges(G, pos, edgelist=eset,alpha=0.0, width=weights, edge_color='r')\n",
    "plt.axis('off')\n",
    "plt.imshow(img,cmap='gray')\n",
    "plt.show()\n"
   ]
  },
  {
   "cell_type": "code",
   "execution_count": null,
   "metadata": {},
   "outputs": [],
   "source": []
  }
 ],
 "metadata": {
  "kernelspec": {
   "display_name": "Python 3",
   "language": "python",
   "name": "python3"
  },
  "language_info": {
   "codemirror_mode": {
    "name": "ipython",
    "version": 3
   },
   "file_extension": ".py",
   "mimetype": "text/x-python",
   "name": "python",
   "nbconvert_exporter": "python",
   "pygments_lexer": "ipython3",
   "version": "3.7.3"
  }
 },
 "nbformat": 4,
 "nbformat_minor": 2
}
