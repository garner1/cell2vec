{
 "cells": [
  {
   "cell_type": "code",
   "execution_count": null,
   "metadata": {},
   "outputs": [],
   "source": [
    "from scipy import ndimage\n",
    "import imageio\n",
    "import matplotlib.pyplot as plt\n",
    "import os"
   ]
  },
  {
   "cell_type": "code",
   "execution_count": null,
   "metadata": {},
   "outputs": [],
   "source": [
    "import numpy as np\n",
    "from sklearn.datasets import load_iris, load_digits\n",
    "from sklearn.model_selection import train_test_split\n",
    "import seaborn as sns\n",
    "import pandas as pd\n",
    "import umap\n",
    "reducer = umap.UMAP()\n",
    "%matplotlib inline"
   ]
  },
  {
   "cell_type": "code",
   "execution_count": null,
   "metadata": {},
   "outputs": [],
   "source": [
    "def bbox(img):\n",
    "    rows = np.any(img, axis=1)\n",
    "    cols = np.any(img, axis=0)\n",
    "    rmin, rmax = np.where(rows)[0][[0, -1]]\n",
    "    cmin, cmax = np.where(cols)[0][[0, -1]]\n",
    "\n",
    "    return rmin, rmax, cmin, cmax    "
   ]
  },
  {
   "cell_type": "code",
   "execution_count": null,
   "metadata": {},
   "outputs": [],
   "source": [
    "widths = []\n",
    "heights = []\n",
    "target = []\n",
    "\n",
    "directory = '/home/garner1/Downloads/Classification_single_cells copy/Classification_single_cells copy/Cancer'\n",
    "for img in os.listdir(directory):\n",
    "    filename = os.path.join(directory, img)\n",
    "    img = imageio.imread(filename)\n",
    "    rmin, rmax, cmin, cmax = bbox(img)\n",
    "    width = rmax-rmin\n",
    "    height = cmax-cmin\n",
    "    widths.append(width)\n",
    "    heights.append(height)\n",
    "    target.append(0)\n",
    "\n",
    "directory = '/home/garner1/Downloads/Classification_single_cells copy/Classification_single_cells copy/Immuno'\n",
    "for img in os.listdir(directory):\n",
    "    filename = os.path.join(directory, img)\n",
    "    img = imageio.imread(filename)\n",
    "    rmin, rmax, cmin, cmax = bbox(img)\n",
    "    width = rmax-rmin\n",
    "    height = cmax-cmin\n",
    "    widths.append(width)\n",
    "    heights.append(height)\n",
    "    target.append(1)\n",
    "\n",
    "directory = '/home/garner1/Downloads/Classification_single_cells copy/Classification_single_cells copy/Other'\n",
    "for img in os.listdir(directory):\n",
    "    filename = os.path.join(directory, img)\n",
    "    img = imageio.imread(filename)\n",
    "    rmin, rmax, cmin, cmax = bbox(img)\n",
    "    width = rmax-rmin\n",
    "    height = cmax-cmin\n",
    "    widths.append(width)\n",
    "    heights.append(height)\n",
    "    target.append(2)\n",
    "    \n",
    "Mwidths = max(widths)\n",
    "Mheights = max(heights)\n",
    "print(Mwidths,Mheights)"
   ]
  },
  {
   "cell_type": "code",
   "execution_count": null,
   "metadata": {},
   "outputs": [],
   "source": [
    "nullimg = np.zeros(Mwidths,Mheights)\n",
    "images = []\n",
    "directory = '/home/garner1/Downloads/Classification_single_cells copy/Classification_single_cells copy/Cancer'\n",
    "for img in os.listdir(directory):\n",
    "    filename = os.path.join(directory, img)\n",
    "    img = imageio.imread(filename)\n",
    "    rmin, rmax, cmin, cmax = bbox(img)\n",
    "    padwidth = int(Mwidths-(rmax-rmin))\n",
    "    padheight = int(Mheights-(cmax-cmin))\n",
    "    newimg = np.pad(img[rmin:rmax,cmin:cmax],((0,padwidth),(0,padheight)),'constant', constant_values=(0))\n",
    "    images.append(newimg)\n",
    "directory = '/home/garner1/Downloads/Classification_single_cells copy/Classification_single_cells copy/Immuno'\n",
    "for img in os.listdir(directory):\n",
    "    filename = os.path.join(directory, img)\n",
    "    img = imageio.imread(filename)\n",
    "    rmin, rmax, cmin, cmax = bbox(img)\n",
    "    padwidth = int(Mwidths-(rmax-rmin))\n",
    "    padheight = int(Mheights-(cmax-cmin))\n",
    "    newimg = np.pad(img[rmin:rmax,cmin:cmax],((0,padwidth),(0,padheight)),'constant', constant_values=(0))\n",
    "    images.append(newimg)\n",
    "directory = '/home/garner1/Downloads/Classification_single_cells copy/Classification_single_cells copy/Other'\n",
    "for img in os.listdir(directory):\n",
    "    filename = os.path.join(directory, img)\n",
    "    img = imageio.imread(filename)\n",
    "    rmin, rmax, cmin, cmax = bbox(img)\n",
    "    padwidth = int(Mwidths-(rmax-rmin))\n",
    "    padheight = int(Mheights-(cmax-cmin))\n",
    "    newimg = np.pad(img[rmin:rmax,cmin:cmax],((0,padwidth),(0,padheight)),'constant', constant_values=(0))\n",
    "    images.append(newimg)"
   ]
  },
  {
   "cell_type": "code",
   "execution_count": null,
   "metadata": {},
   "outputs": [],
   "source": [
    "print(len(images))\n",
    "# for img in images[:10]:\n",
    "#     plt.imshow(img)\n",
    "#     plt.show()"
   ]
  },
  {
   "cell_type": "code",
   "execution_count": null,
   "metadata": {},
   "outputs": [],
   "source": [
    "sns.set(style='white', context='notebook', rc={'figure.figsize':(168,120)})\n",
    "\n",
    "fig, ax_array = plt.subplots(30,20)\n",
    "axes = ax_array.flatten()\n",
    "for i, ax in enumerate(axes):\n",
    "    ax.imshow(images[i], cmap='gray_r')\n",
    "plt.setp(axes, xticks=[], yticks=[], frame_on=False)\n",
    "plt.tight_layout(h_pad=0.5, w_pad=0.01)"
   ]
  },
  {
   "cell_type": "code",
   "execution_count": null,
   "metadata": {},
   "outputs": [],
   "source": [
    "data = np.zeros((Mwidths*Mheights,len(images)))\n",
    "for ind in range(len(images)): data[:,ind] = images[ind].flatten() # from 2D arrays to 1D arrays\n",
    "data = data.transpose()\n",
    "\n",
    "reducer = umap.UMAP(a=None, angular_rp_forest=False, b=None, init='spectral',\n",
    "   learning_rate=1.0, local_connectivity=1.0, metric='euclidean',\n",
    "   metric_kwds=None, min_dist=0.1, n_components=3, n_epochs=500,\n",
    "   n_neighbors=10, negative_sample_rate=10, random_state=47,\n",
    "   repulsion_strength=1.0, set_op_mix_ratio=0.5, spread=1.0,\n",
    "   target_metric='categorical', target_metric_kwds=None,\n",
    "   target_n_neighbors=-1, target_weight=0.5, transform_queue_size=10.0,\n",
    "   transform_seed=42, verbose=False)\n",
    "reducer.fit(data)\n",
    "\n",
    "embedding = reducer.transform(data)\n",
    "# Verify that the result of calling transform is\n",
    "# idenitical to accessing the embedding_ attribute\n",
    "assert(np.all(embedding == reducer.embedding_))\n",
    "embedding.shape"
   ]
  },
  {
   "cell_type": "code",
   "execution_count": null,
   "metadata": {},
   "outputs": [],
   "source": [
    "sns.set(style='white', context='notebook', rc={'figure.figsize':(20,10)})\n",
    "\n",
    "plt.scatter(embedding[:, 0], embedding[:, 1], c=np.asarray(target), cmap='Spectral', s=50)\n",
    "plt.gca().set_aspect('equal', 'datalim')\n",
    "plt.colorbar(boundaries=np.arange(4)-0.5).set_ticks(np.arange(3))\n",
    "plt.title('UMAP projection of the cell dataset', fontsize=24);"
   ]
  },
  {
   "cell_type": "code",
   "execution_count": null,
   "metadata": {},
   "outputs": [],
   "source": [
    "# Import dependencies\n",
    "import plotly\n",
    "import plotly.graph_objs as go\n",
    "\n",
    "# Configure Plotly to be rendered inline in the notebook.\n",
    "plotly.offline.init_notebook_mode()\n",
    "\n",
    "# Configure the trace.\n",
    "trace = go.Scatter3d(\n",
    "    x=embedding[:,0],  # <-- Put your data instead\n",
    "    y=embedding[:,1],  # <-- Put your data instead\n",
    "    z=embedding[:,2],  # <-- Put your data instead\n",
    "    mode='markers',\n",
    "    marker=dict(color=np.asarray(target),size=5, opacity=1)\n",
    ")\n",
    "\n",
    "# Configure the layout.\n",
    "layout = go.Layout(\n",
    "    margin={'l': 0, 'r': 0, 'b': 0, 't': 0}\n",
    ")\n",
    "\n",
    "data = [trace]\n",
    "\n",
    "plot_figure = go.Figure(data=data, layout=layout)\n",
    "\n",
    "# Render the plot.\n",
    "plotly.offline.iplot(plot_figure)"
   ]
  },
  {
   "cell_type": "code",
   "execution_count": null,
   "metadata": {},
   "outputs": [],
   "source": [
    "# Import the class\n",
    "import kmapper as km\n",
    "\n",
    "# Some sample data\n",
    "from sklearn import datasets\n",
    "data, labels = datasets.make_circles(n_samples=5000, noise=0.03, factor=0.3)\n",
    "\n",
    "# Initialize\n",
    "mapper = km.KeplerMapper(verbose=1)\n",
    "\n",
    "# Fit to and transform the data\n",
    "projected_data = mapper.fit_transform(data, projection=[0,1]) # X-Y axis\n",
    "\n",
    "# Create dictionary called 'graph' with nodes, edges and meta-information\n",
    "graph = mapper.map(projected_data, data, cover=km.Cover(n_cubes=10))\n",
    "\n",
    "# Visualize it\n",
    "mapper.visualize(graph, path_html=\"make_circles_keplermapper_output.html\",\n",
    "                 title=\"make_circles(n_samples=5000, noise=0.03, factor=0.3)\")"
   ]
  },
  {
   "cell_type": "code",
   "execution_count": null,
   "metadata": {},
   "outputs": [],
   "source": [
    "labels"
   ]
  }
 ],
 "metadata": {
  "kernelspec": {
   "display_name": "Python 3",
   "language": "python",
   "name": "python3"
  },
  "language_info": {
   "codemirror_mode": {
    "name": "ipython",
    "version": 3
   },
   "file_extension": ".py",
   "mimetype": "text/x-python",
   "name": "python",
   "nbconvert_exporter": "python",
   "pygments_lexer": "ipython3",
   "version": "3.7.3"
  }
 },
 "nbformat": 4,
 "nbformat_minor": 2
}
