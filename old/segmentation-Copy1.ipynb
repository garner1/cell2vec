{
 "cells": [
  {
   "cell_type": "code",
   "execution_count": null,
   "metadata": {},
   "outputs": [],
   "source": [
    "'''\n",
    " * Python program to use contours to count the objects in an image.\n",
    " *\n",
    " * usage: python Contours.py <filename> <threshold>\n",
    "'''\n",
    "import cv2, sys\n",
    "import numpy as np\n",
    "from matplotlib import pyplot as plt\n",
    "import seaborn as sns; sns.set()\n",
    "\n",
    "# img = cv2.imread('/home/garner1/Work/dataset/cellImages/image52/iMS266_20190426_001.sub52.jpg',0)\n",
    "# plt.hist(img.ravel(),256,[0,256])\n",
    "# plt.show()"
   ]
  },
  {
   "cell_type": "code",
   "execution_count": null,
   "metadata": {},
   "outputs": [],
   "source": [
    "import numpy as np\n",
    "import cv2 as cv\n",
    "from matplotlib import pyplot as plt\n",
    "\n",
    "def find_markers(img,iterations):\n",
    "    # filename = '/home/garner1/Work/dataset/cellImages/image52/equalised_iMS266_20190426_001.sub52.tif'\n",
    "    gray = cv.cvtColor(img,cv.COLOR_BGR2GRAY)\n",
    "    ret, thresh = cv.threshold(gray,0,255,cv.THRESH_BINARY_INV+cv.THRESH_OTSU)\n",
    "    # thresh = cv.adaptiveThreshold(gray, 255, cv.ADAPTIVE_THRESH_GAUSSIAN_C,cv.THRESH_BINARY,9, 0) \n",
    "    # noise removal\n",
    "    kernel = np.ones((3,3),np.uint8)\n",
    "    opening = cv.morphologyEx(thresh,cv.MORPH_OPEN,kernel, iterations = iterations) # normally 2\n",
    "\n",
    "    # sure background area\n",
    "    sure_bg = cv.dilate(opening,kernel,iterations=3)\n",
    "\n",
    "    # Finding sure foreground area\n",
    "    dist_transform = cv.distanceTransform(opening,cv.DIST_L2,5)\n",
    "    ret, sure_fg = cv.threshold(dist_transform,0.7*dist_transform.max(),255,0)\n",
    "\n",
    "    # Finding unknown region\n",
    "    sure_fg = np.uint8(sure_fg)\n",
    "    unknown = cv.subtract(sure_bg,sure_fg)\n",
    "\n",
    "    # Marker labelling\n",
    "    ret, markers = cv.connectedComponents(sure_fg)\n",
    "    # Add one to all labels so that sure background is not 0, but 1\n",
    "    markers = markers+1\n",
    "    # Now, mark the region of unknown with zero\n",
    "    markers[unknown==255] = 0\n",
    "\n",
    "    markers = cv.watershed(img,markers)\n",
    "    img[markers == -1] = [255,0,0]\n",
    "    return markers, img"
   ]
  },
  {
   "cell_type": "code",
   "execution_count": null,
   "metadata": {
    "scrolled": false
   },
   "outputs": [],
   "source": [
    "import os\n",
    "sns.set(style='white', context='notebook', rc={'figure.figsize':(100,100)})\n",
    "    \n",
    "# directory = '/home/garner1/Work/dataset/cellImages/image52/Images_Patient_52/equalised'\n",
    "directory = '/home/garner1/Work/dataset/cellImages/image52/Images_Patient_52/original'\n",
    "count = 1\n",
    "for filename in os.listdir(directory):\n",
    "        path = os.path.join(directory, filename)\n",
    "        img = cv.imread(path)\n",
    "        markers, img = find_markers(img,1)\n",
    "        \n",
    "        plt.subplot(len(os.listdir(directory)), 1, count)\n",
    "        plt.title(filename)\n",
    "        plt.imshow(img)\n",
    "        count += 1"
   ]
  },
  {
   "cell_type": "code",
   "execution_count": null,
   "metadata": {
    "scrolled": false
   },
   "outputs": [],
   "source": [
    "sns.set(style='white', context='notebook', rc={'figure.figsize':(100,100)})\n",
    "\n",
    "filename = '/home/garner1/Work/dataset/cellImages/image52/iMS266_20190426_001.sub52.jpg'\n",
    "image0 = cv.imread(filename)\n",
    "\n",
    "markers, img = find_markers(image0,2)\n",
    "marks = np.unique(markers)\n",
    "count = 1\n",
    "# plt.subplot(len(range(1,len(marks))), 2, count)\n",
    "# plt.imshow(markers)\n",
    "# count += 1\n",
    "plt.subplot(len(range(1,len(marks))), 1, count)\n",
    "plt.imshow(img)\n",
    "count += 1\n",
    "for ind in range(2,len(marks)):\n",
    "    image = np.copy(image0)\n",
    "    image[markers != marks[ind]] = [0,0,0]\n",
    "    new_markers, new_img = find_markers(image,2)\n",
    "#     plt.subplot(len(range(1,len(marks))), 2, count)\n",
    "#     plt.imshow(new_markers)\n",
    "#     count += 1\n",
    "    plt.subplot(len(range(1,len(marks))), 1, count)\n",
    "    plt.imshow(new_img)\n",
    "    count += 1\n",
    "plt.tight_layout(h_pad=0.5, w_pad=0.01)    "
   ]
  },
  {
   "cell_type": "code",
   "execution_count": null,
   "metadata": {
    "scrolled": false
   },
   "outputs": [],
   "source": [
    "sns.set(style='white', context='notebook', rc={'figure.figsize':(200,200)})\n",
    "marks = np.unique(markers)\n",
    "for ind in range(len(marks)):\n",
    "    img2 = np.copy(img)\n",
    "    plt.subplot(len(marks), 1, ind+1)\n",
    "    img2[markers != marks[ind]] = [0,0,0]\n",
    "    plt.title('Pseudo-cell '+str(marks[ind]))\n",
    "    plt.imshow(img2)  #show only marks[ind] in image\n",
    "    "
   ]
  },
  {
   "cell_type": "code",
   "execution_count": null,
   "metadata": {},
   "outputs": [],
   "source": []
  }
 ],
 "metadata": {
  "kernelspec": {
   "display_name": "Python 3",
   "language": "python",
   "name": "python3"
  },
  "language_info": {
   "codemirror_mode": {
    "name": "ipython",
    "version": 3
   },
   "file_extension": ".py",
   "mimetype": "text/x-python",
   "name": "python",
   "nbconvert_exporter": "python",
   "pygments_lexer": "ipython3",
   "version": "3.7.3"
  }
 },
 "nbformat": 4,
 "nbformat_minor": 2
}
