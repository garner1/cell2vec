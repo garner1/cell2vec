{
 "cells": [
  {
   "cell_type": "code",
   "execution_count": null,
   "metadata": {},
   "outputs": [],
   "source": [
    "'''\n",
    " * Python program to use contours to count the objects in an image.\n",
    " *\n",
    " * usage: python Contours.py <filename> <threshold>\n",
    "'''\n",
    "import sys\n",
    "import numpy as np\n",
    "from matplotlib import pyplot as plt\n",
    "import seaborn as sns; sns.set()\n",
    "import cv2 as cv\n",
    "import os\n",
    "\n",
    "from skimage.io import imread\n",
    "from skimage.util import img_as_ubyte\n",
    "\n",
    "sns.set(style='white', context='notebook', rc={'figure.figsize':(100,100)})"
   ]
  },
  {
   "cell_type": "code",
   "execution_count": null,
   "metadata": {},
   "outputs": [],
   "source": [
    "\n",
    "def find_markers(img):\n",
    "    # filename = '/home/garner1/Work/dataset/cellImages/image52/equalised_iMS266_20190426_001.sub52.tif'\n",
    "    gray = cv.cvtColor(img,cv.COLOR_BGR2GRAY)\n",
    "    ret, thresh = cv.threshold(gray,0,255,cv.THRESH_BINARY_INV+cv.THRESH_OTSU)\n",
    "    # noise removal\n",
    "    kernel = np.ones((3,3),np.uint8)\n",
    "    opening = cv.morphologyEx(thresh,cv.MORPH_OPEN,kernel, iterations = 2) # normally 2\n",
    "\n",
    "    # sure background area\n",
    "    sure_bg = cv.dilate(opening,kernel,iterations=3) # iterations can be fixed\n",
    "\n",
    "    # Finding sure foreground area\n",
    "    dist_transform = cv.distanceTransform(opening,cv.DIST_L2,5) # 5 can be changed to 3 or 0\n",
    "    ret, sure_fg = cv.threshold(dist_transform,0.7*dist_transform.max(),255,0)\n",
    "\n",
    "    # Finding unknown region\n",
    "    sure_fg = np.uint8(sure_fg)\n",
    "    unknown = cv.subtract(sure_bg,sure_fg)\n",
    "\n",
    "    # Marker labelling\n",
    "    ret, markers = cv.connectedComponents(sure_fg)\n",
    "    # Add one to all labels so that sure background is not 0, but 1\n",
    "    markers = markers+1\n",
    "    # Now, mark the region of unknown with zero\n",
    "    markers[unknown==255] = 0\n",
    "\n",
    "    markers = cv.watershed(img,markers)\n",
    "    img[markers == -1] = [0,255,0]\n",
    "    return markers, img"
   ]
  },
  {
   "cell_type": "code",
   "execution_count": null,
   "metadata": {
    "scrolled": false
   },
   "outputs": [],
   "source": [
    "   \n",
    "directory = '/home/garner1/Work/dataset/cellImages/image52/Images_Patient_52/equalised'\n",
    "# directory = '/home/garner1/Work/dataset/cellImages/image52/Images_Patient_52/original'\n",
    "count = 1\n",
    "List = os.listdir(directory)[:1]\n",
    "for filename in List:\n",
    "        path = os.path.join(directory, filename)\n",
    "        img = cv.imread(path)\n",
    "        markers, img = find_markers(img)\n",
    "        \n",
    "        plt.subplot(len(List), 2, count)\n",
    "        plt.title(filename)\n",
    "        plt.imshow(markers)\n",
    "        count += 1\n",
    "\n",
    "        plt.subplot(len(List), 2, count)\n",
    "        plt.title(filename)\n",
    "        plt.imshow(img)\n",
    "        count += 1\n"
   ]
  },
  {
   "cell_type": "code",
   "execution_count": null,
   "metadata": {},
   "outputs": [],
   "source": [
    "path2file = '/home/garner1/Work/dataset/cellImages/iMS293_20190613_001.tif'\n",
    "img = img_as_ubyte(imread(path2file))\n",
    "image = img_as_ubyte(np.zeros((img.shape[0],img.shape[1],3)))\n",
    "image[:,:,0] = img"
   ]
  },
  {
   "cell_type": "code",
   "execution_count": null,
   "metadata": {},
   "outputs": [],
   "source": [
    "path2file = '/home/garner1/Work/dataset/cellImages/iMS293_20190613_001.tif'\n",
    "img = img_as_ubyte(imread(path2file))\n",
    "a, bins = np.histogram(img,256,[0,256])"
   ]
  },
  {
   "cell_type": "code",
   "execution_count": null,
   "metadata": {},
   "outputs": [],
   "source": [
    "from sklearn.decomposition import TruncatedSVD\n",
    "from sklearn.random_projection import sparse_random_matrix\n",
    "from scipy.sparse import csr_matrix\n",
    "X = csr_matrix(img)"
   ]
  },
  {
   "cell_type": "code",
   "execution_count": null,
   "metadata": {},
   "outputs": [],
   "source": [
    "from sklearn.utils.extmath import randomized_svd\n",
    "U, s, V = randomized_svd(X, n_components=10, n_oversamples=10, random_state=42)"
   ]
  },
  {
   "cell_type": "code",
   "execution_count": null,
   "metadata": {},
   "outputs": [],
   "source": [
    "print U.shape, V.shape,s.shape"
   ]
  },
  {
   "cell_type": "code",
   "execution_count": null,
   "metadata": {
    "scrolled": false
   },
   "outputs": [],
   "source": [
    "# mat = np.zeros((U.shape[0],V.shape[1]))\n",
    "# for ind in range(3):\n",
    "# mat = s[:3]*np.outer(U[:,:3],V[:3,:])\n",
    "# ind = 5\n",
    "count = 1\n",
    "for ind in range(10):\n",
    "    \n",
    "    mat = np.dot(np.dot(U[:,:ind],np.diag(s[:ind])),V[:ind,:])\n",
    "    \n",
    "    image = img_as_ubyte(np.zeros((mat.shape[0],mat.shape[1],3)))\n",
    "    image[:,:,0] = mat\n",
    "    gray = cv.cvtColor(image,cv.COLOR_BGR2GRAY)\n",
    "    ret, thresh = cv.threshold(gray,0,255,cv.THRESH_BINARY_INV+cv.THRESH_OTSU)\n",
    "    plt.subplot(10, 1, ind+1)\n",
    "    plt.imshow(thresh)\n",
    "\n",
    "#     plt.hist(mat.ravel(),256,[0,256])\n",
    "\n",
    "#     markers, img = find_markers(image)\n",
    "#     plt.subplot(20, 1, count)\n",
    "#     count += 1\n",
    "#     plt.imshow(markers)\n",
    "#     plt.subplot(20, 1, count)\n",
    "#     count += 1\n",
    "#     plt.imshow(img)"
   ]
  },
  {
   "cell_type": "code",
   "execution_count": null,
   "metadata": {},
   "outputs": [],
   "source": [
    "# plt.hist(a, bins='auto')\n",
    "plt.hist(img.ravel(),256,[0,256])\n",
    "plt.show()"
   ]
  },
  {
   "cell_type": "code",
   "execution_count": null,
   "metadata": {},
   "outputs": [],
   "source": [
    "print image.shape\n",
    "print imC.shape"
   ]
  },
  {
   "cell_type": "code",
   "execution_count": null,
   "metadata": {},
   "outputs": [],
   "source": [
    "%time image2 = cv.normalize(image,None,0,255,cv.NORM_MINMAX)"
   ]
  },
  {
   "cell_type": "code",
   "execution_count": null,
   "metadata": {},
   "outputs": [],
   "source": [
    "im = img_as_ubyte(imread(path2file))\n",
    "imC = cv.applyColorMap(im, cv.COLORMAP_JET)\n",
    "# imC = cv.applyColorMap(image[:,:,0], cv.COLORMAP_JET)\n",
    "# imC = cv.applyColorMap(image2, cv.COLORMAP_JET)"
   ]
  },
  {
   "cell_type": "code",
   "execution_count": null,
   "metadata": {},
   "outputs": [],
   "source": [
    "plt.imshow(im)"
   ]
  },
  {
   "cell_type": "code",
   "execution_count": null,
   "metadata": {},
   "outputs": [],
   "source": [
    "markers, img = find_markers(imC[5000:6500,5000:6500,:])\n",
    "\n",
    "plt.subplot(1, 2, 1)\n",
    "plt.title(filename)\n",
    "plt.imshow(markers)\n",
    "\n",
    "plt.subplot(1, 2, 2)\n",
    "plt.title(filename)\n",
    "plt.imshow(img)"
   ]
  },
  {
   "cell_type": "code",
   "execution_count": null,
   "metadata": {},
   "outputs": [],
   "source": [
    "sns.set(style='white', context='notebook', rc={'figure.figsize':(100,100)})\n",
    "\n",
    "%time markers, image_out = find_markers(image)"
   ]
  },
  {
   "cell_type": "code",
   "execution_count": null,
   "metadata": {
    "scrolled": false
   },
   "outputs": [],
   "source": [
    "image_old = np.copy(image_out)\n",
    "image_old[markers != 1] = [0,0,255]\n",
    "plt.imshow(image_old)"
   ]
  },
  {
   "cell_type": "code",
   "execution_count": null,
   "metadata": {
    "scrolled": false
   },
   "outputs": [],
   "source": [
    "sns.set(style='white', context='notebook', rc={'figure.figsize':(100,100)})\n",
    "marks = np.unique(markers)\n",
    "for ind in range(len(marks)):\n",
    "    image_old = np.copy(image_out)\n",
    "    plt.subplot(len(marks), 1, ind+1)\n",
    "    image_old[markers != marks[ind]] = [0,0,255]\n",
    "    image_old[markers == marks[ind]] = [255,0,0]\n",
    "    plt.title('Pseudo-cell '+str(marks[ind]))\n",
    "    plt.imshow(image_old)  #show only marks[ind] in image\n",
    "    "
   ]
  },
  {
   "cell_type": "code",
   "execution_count": null,
   "metadata": {},
   "outputs": [],
   "source": []
  }
 ],
 "metadata": {
  "kernelspec": {
   "display_name": "Python 3",
   "language": "python",
   "name": "python3"
  },
  "language_info": {
   "codemirror_mode": {
    "name": "ipython",
    "version": 3
   },
   "file_extension": ".py",
   "mimetype": "text/x-python",
   "name": "python",
   "nbconvert_exporter": "python",
   "pygments_lexer": "ipython3",
   "version": "3.7.3"
  }
 },
 "nbformat": 4,
 "nbformat_minor": 2
}
