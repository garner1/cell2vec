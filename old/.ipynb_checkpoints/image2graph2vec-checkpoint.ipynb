{
 "cells": [
  {
   "cell_type": "code",
   "execution_count": null,
   "metadata": {},
   "outputs": [],
   "source": [
    "import csv\n",
    "import numpy as np\n",
    "\n",
    "import matplotlib.pyplot as plt\n",
    "import seaborn as sns; sns.set()\n",
    "from matplotlib.colors import ListedColormap\n",
    "from scipy import ndimage\n",
    "import imageio\n",
    "import plotly\n",
    "import plotly.graph_objs as go\n",
    "\n",
    "\n",
    "with open('/home/garner1/Work/dataset/cellImages/image52/properties.csv', 'r') as f:\n",
    "    properties = list(csv.reader(f, delimiter=','))\n",
    "properties = np.array(properties)\n",
    "\n",
    "image = imageio.imread('/home/garner1/Work/dataset/cellImages/image52/iMS266_20190426_001.sub52.jpg')\n",
    "sns.set(style='white', rc={'figure.figsize':(50,30)})\n",
    "\n",
    "plt.scatter(properties[1:,1].astype(np.float),\n",
    "            properties[1:,2].astype(np.float),\n",
    "            c='b',\n",
    "            s=100,\n",
    "#             cmap='Spectral',\n",
    "            alpha=0.9);\n",
    "plt.imshow(image,cmap='gray')\n",
    "plt.show()"
   ]
  },
  {
   "cell_type": "markdown",
   "metadata": {},
   "source": [
    "Use UMAP to represent nuclei locations in the original image"
   ]
  },
  {
   "cell_type": "code",
   "execution_count": null,
   "metadata": {},
   "outputs": [],
   "source": [
    "import umap\n",
    "\n",
    "X = properties[1:,1:3].astype(np.float)\n",
    "\n",
    "'''2D embedding'''\n",
    "n_neighbors = 20\n",
    "n_components = 2\n",
    "trans = umap.UMAP(n_neighbors=n_neighbors,min_dist=0.0,n_components=n_components,random_state=42).fit_transform(X)"
   ]
  },
  {
   "cell_type": "code",
   "execution_count": null,
   "metadata": {},
   "outputs": [],
   "source": [
    "from sklearn.cluster import DBSCAN, KMeans, AffinityPropagation, MeanShift\n",
    "import hdbscan\n",
    "'''\n",
    "HDBSCAN clusters in 2D\n",
    "low min sample size seems to refuce unclustered data;\n",
    "larger min cluster size decrease cluster numbers\n",
    "'''\n",
    "y_unsupervised = hdbscan.HDBSCAN(min_samples=3,min_cluster_size=20).fit_predict(trans)\n",
    " \n",
    "sns.set(style='white', rc={'figure.figsize':(10,8)})\n",
    "clustered = (y_unsupervised >= 0)\n",
    "plt.scatter(trans[~clustered, 0],\n",
    "            trans[~clustered, 1],\n",
    "            c=(0.5, 0.5, 0.5),s=2,alpha=0.5)\n",
    "plt.scatter(trans[clustered, 0],\n",
    "            trans[clustered, 1],\n",
    "            c=y_unsupervised[clustered],s=2,cmap='Spectral');\n",
    "# plt.scatter(trans[:, 0],\n",
    "#             trans[:, 1],\n",
    "#             c=(0.5, 0.5, 0.5),s=2,alpha=0.5)"
   ]
  },
  {
   "cell_type": "code",
   "execution_count": null,
   "metadata": {},
   "outputs": [],
   "source": [
    "image = imageio.imread('/home/garner1/Work/dataset/cellImages/image52/iMS266_20190426_001.sub52.jpg')\n",
    "sns.set(style='white', rc={'figure.figsize':(50,30)})\n",
    "\n",
    "plt.scatter(X[clustered,0].astype(np.float),\n",
    "            X[clustered,1].astype(np.float),\n",
    "            c=np.asarray(y_unsupervised)[clustered],\n",
    "            s=500,\n",
    "            cmap='Spectral',\n",
    "            alpha=0.75);\n",
    "plt.imshow(image,cmap='gray')\n",
    "plt.show()"
   ]
  },
  {
   "cell_type": "code",
   "execution_count": null,
   "metadata": {},
   "outputs": [],
   "source": [
    "'''\n",
    "Returns\n",
    "-------\n",
    "fuzzy_simplicial_set: coo_matrix\n",
    "A fuzzy simplicial set represented as a sparse matrix. The (i,\n",
    "j) entry of the matrix represents the membership strength of the\n",
    "1-simplex between the ith and jth sample points.\n",
    "'''\n",
    "mat = umap.umap_.fuzzy_simplicial_set(\n",
    "    X,\n",
    "    n_neighbors,\n",
    "    random_state=np.random.RandomState(seed=42),\n",
    "    metric='euclidean',\n",
    "    metric_kwds={},\n",
    "    knn_indices=None,\n",
    "    knn_dists=None,\n",
    "    angular=False,\n",
    "    set_op_mix_ratio=1.0,\n",
    "    local_connectivity=1.0,\n",
    "    verbose=False\n",
    ")"
   ]
  },
  {
   "cell_type": "code",
   "execution_count": null,
   "metadata": {},
   "outputs": [],
   "source": [
    "import networkx as nx\n",
    "sns.set(style='white', rc={'figure.figsize':(50,30)})\n",
    "G = nx.from_scipy_sparse_matrix(mat)\n",
    "eset = [(u, v) for (u, v, d) in G.edges(data=True) if d['weight'] > 0.75]\n",
    "# pos = nx.spring_layout(G)  # positions for all nodes\n",
    "pos = X\n",
    "# nodes\n",
    "nx.draw_networkx_nodes(G, pos, node_size=100,alpha=1.0)\n",
    "# edges\n",
    "nx.draw_networkx_edges(G, pos, edgelist=eset,alpha=1.0, edge_color='r')\n",
    "# nx.draw_networkx_edges(G, pos, edgelist=esmall,\n",
    "#                        width=6, alpha=0.5, edge_color='b', style='dashed')\n",
    "# labels\n",
    "# nx.draw_networkx_labels(G, pos, font_size=20, font_family='sans-serif')\n",
    "plt.axis('off')\n",
    "plt.imshow(image,cmap='gray')\n",
    "plt.show()\n"
   ]
  }
 ],
 "metadata": {
  "kernelspec": {
   "display_name": "Python 3",
   "language": "python",
   "name": "python3"
  },
  "language_info": {
   "codemirror_mode": {
    "name": "ipython",
    "version": 3
   },
   "file_extension": ".py",
   "mimetype": "text/x-python",
   "name": "python",
   "nbconvert_exporter": "python",
   "pygments_lexer": "ipython3",
   "version": "3.7.3"
  }
 },
 "nbformat": 4,
 "nbformat_minor": 2
}
